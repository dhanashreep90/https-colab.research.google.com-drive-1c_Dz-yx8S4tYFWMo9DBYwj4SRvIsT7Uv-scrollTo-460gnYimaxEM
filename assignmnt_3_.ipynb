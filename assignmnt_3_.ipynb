{
  "nbformat": 4,
  "nbformat_minor": 0,
  "metadata": {
    "colab": {
      "name": "assignmnt 3 .ipynb",
      "provenance": []
    },
    "kernelspec": {
      "name": "python3",
      "display_name": "Python 3"
    },
    "language_info": {
      "name": "python"
    }
  },
  "cells": [
    {
      "cell_type": "code",
      "source": [
        ""
      ],
      "metadata": {
        "id": "uJa460wnWAZs"
      },
      "execution_count": null,
      "outputs": []
    },
    {
      "cell_type": "code",
      "execution_count": null,
      "metadata": {
        "colab": {
          "base_uri": "https://localhost:8080/"
        },
        "id": "fJRvJ7uuV5fS",
        "outputId": "66af1006-20ec-4b39-c461-fcaf0f722a82"
      },
      "outputs": [
        {
          "output_type": "stream",
          "name": "stdout",
          "text": [
            "15\n"
          ]
        }
      ],
      "source": [
        "def myreduce(add,list_1):\n",
        "  return a\n",
        "def add(a,b):\n",
        "  return a+b\n",
        "list_1=[1,2,3,4,5]\n",
        "a=list_1[0]\n",
        "for i in range(1,len(list_1)):\n",
        "  b=list_1[i]\n",
        "  a=add(a,b)\n",
        "print(myreduce(add,list_1))"
      ]
    },
    {
      "cell_type": "code",
      "source": [
        "list_2=(12,25,65,89)\n",
        "\n",
        "a=list_2[0]\n",
        "for i in range(1,len(list_2)):\n",
        "  b=list_2[i]\n",
        "  a=add(a,b)\n",
        "print(myreduce(add,list_2))"
      ],
      "metadata": {
        "id": "p04Y3AWjXnqz",
        "colab": {
          "base_uri": "https://localhost:8080/"
        },
        "outputId": "7dfc9dba-d13c-42f1-bb99-2efcee93b06d"
      },
      "execution_count": null,
      "outputs": [
        {
          "output_type": "stream",
          "name": "stdout",
          "text": [
            "191\n"
          ]
        }
      ]
    },
    {
      "cell_type": "code",
      "source": [
        ""
      ],
      "metadata": {
        "id": "bCg5IPI3Y38D"
      },
      "execution_count": null,
      "outputs": []
    },
    {
      "cell_type": "code",
      "source": [
        "def myfilter(is_odd,list_1):\n",
        "  return is_odd(a)\n",
        "list_1=[2,3,4,5,6,7,8,9,10]\n",
        "list_2=[]\n",
        "def is_odd(a):\n",
        "  for i in list:\n",
        "    if i%2>=1:\n",
        "      list_2.append(i)  \n",
        "  print(list_2)\n",
        "myfilter(is_odd,list_2)\n"
      ],
      "metadata": {
        "colab": {
          "base_uri": "https://localhost:8080/"
        },
        "id": "od8UnIFKYzB9",
        "outputId": "71499ac7-f687-406e-94d1-6b3c2806e25e"
      },
      "execution_count": null,
      "outputs": [
        {
          "output_type": "stream",
          "name": "stdout",
          "text": [
            "[3, 5, 7, 9]\n"
          ]
        }
      ]
    },
    {
      "cell_type": "code",
      "source": [
        ""
      ],
      "metadata": {
        "id": "36SkwaUqrvKT"
      },
      "execution_count": null,
      "outputs": []
    },
    {
      "cell_type": "code",
      "source": [
        "l=['x','y','z']\n",
        "[a*b for b in l for a in range(1,5)]"
      ],
      "metadata": {
        "id": "3NO48KekZPzs",
        "colab": {
          "base_uri": "https://localhost:8080/"
        },
        "outputId": "fd7c6493-1e74-4be5-96f1-147c7fb14298"
      },
      "execution_count": null,
      "outputs": [
        {
          "output_type": "execute_result",
          "data": {
            "text/plain": [
              "['x', 'xx', 'xxx', 'xxxx', 'y', 'yy', 'yyy', 'yyyy', 'z', 'zz', 'zzz', 'zzzz']"
            ]
          },
          "metadata": {},
          "execution_count": 8
        }
      ]
    },
    {
      "cell_type": "code",
      "source": [
        "[a*b for a in range (1,5) for b in l]"
      ],
      "metadata": {
        "colab": {
          "base_uri": "https://localhost:8080/"
        },
        "id": "-cLzYd50Yr24",
        "outputId": "f786fa72-4eb2-4863-a756-08eae8cc330f"
      },
      "execution_count": null,
      "outputs": [
        {
          "output_type": "execute_result",
          "data": {
            "text/plain": [
              "['x', 'y', 'z', 'xx', 'yy', 'zz', 'xxx', 'yyy', 'zzz', 'xxxx', 'yyyy', 'zzzz']"
            ]
          },
          "metadata": {},
          "execution_count": 12
        }
      ]
    },
    {
      "cell_type": "code",
      "source": [
        "m=[2,3,4,5]\n",
        "[[a+b for b in m] for a in range (0,4)]"
      ],
      "metadata": {
        "colab": {
          "base_uri": "https://localhost:8080/"
        },
        "id": "qizxozVQYuHl",
        "outputId": "97a91919-627c-46d6-fb88-05e359807810"
      },
      "execution_count": null,
      "outputs": [
        {
          "output_type": "execute_result",
          "data": {
            "text/plain": [
              "[[2, 3, 4, 5], [3, 4, 5, 6], [4, 5, 6, 7], [5, 6, 7, 8]]"
            ]
          },
          "metadata": {},
          "execution_count": 13
        }
      ]
    },
    {
      "cell_type": "code",
      "source": [
        "n=[2,3,4]\n",
        "[[a+b]for b in n for a in range(0,3)]"
      ],
      "metadata": {
        "colab": {
          "base_uri": "https://localhost:8080/"
        },
        "id": "kPl9-f-4Zz3p",
        "outputId": "27f35787-1917-4143-b2a7-cef3dbb0d998"
      },
      "execution_count": null,
      "outputs": [
        {
          "output_type": "execute_result",
          "data": {
            "text/plain": [
              "[[2], [3], [4], [3], [4], [5], [4], [5], [6]]"
            ]
          },
          "metadata": {},
          "execution_count": 14
        }
      ]
    },
    {
      "cell_type": "code",
      "source": [
        "o=[1,2,3]\n",
        "[(b,a) for a in o for b in o]"
      ],
      "metadata": {
        "colab": {
          "base_uri": "https://localhost:8080/"
        },
        "id": "vJkpHW2XafjA",
        "outputId": "1f20a483-255c-434a-8dd1-e24f1508e420"
      },
      "execution_count": null,
      "outputs": [
        {
          "output_type": "execute_result",
          "data": {
            "text/plain": [
              "[(1, 1), (2, 1), (3, 1), (1, 2), (2, 2), (3, 2), (1, 3), (2, 3), (3, 3)]"
            ]
          },
          "metadata": {},
          "execution_count": 15
        }
      ]
    },
    {
      "cell_type": "code",
      "source": [
        ""
      ],
      "metadata": {
        "id": "460gnYimaxEM"
      },
      "execution_count": null,
      "outputs": []
    }
  ]
}